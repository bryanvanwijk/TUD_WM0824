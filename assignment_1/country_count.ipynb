{
 "cells": [
  {
   "cell_type": "code",
   "execution_count": 23,
   "metadata": {},
   "outputs": [],
   "source": [
    "countries =['AF','AL','DZ','AS','AD','AO','AI','AQ','AG','AR','AM','AW','AU','AT','AZ','BS','BH','BD','BB','BY','BE','BZ','BJ','BM','BT','BO','BA','BW','BV','BR','IO','VG','BN','BG','BF','BI','KH','CM','CA','CV','KY','CF','TD','CL','CN','CX','CC','CO','KM','CD','CG','CK','CR','CI','CU','CY','CZ','DK','DJ','DM','DO','EC','EG','SV','GQ','ER','EE','ET','FO','FK','FJ','FI','FR','GF','PF','TF','GA','GM','GE','DE','GH','GI','GR','GL','GD','GP','GU','GT','GN','GW','GY','HT','HM','VA','HN','HK','HR','HU','IS','IN','ID','IR','IQ','IE','IL','IT','JM','JP','JO','KZ','KE','KI','KP','KR','KW','KG','LA','LV','LB','LS','LR','LY','LI','LT','LU','MO','MK','MG','MW','MY','MV','ML','MT','MH','MQ','MR','MU','YT','MX','FM','MD','MC','MN','MS','MA','MZ','MM','NA','NR','NP','AN','NL','NC','NZ','NI','NE','NG','NU','NF','MP','NO','OM','PK','PW','PS','PA','PG','PY','PE','PH','PN','PL','PT','PR','QA','RE','RO','RU','RW','SH','KN','LC','PM','VC','WS','SM','ST','SA','SN','CS','SC','SL','SG','SK','SI','SB','SO','ZA','GS','ES','LK','SD','SR','SJ','SZ','SE','CH','SY','TW','TJ','TZ','TH','TL','TG','TK','TO','TT','TN','TR','TM','TC','TV','VI','UG','UA','AE','GB','UM','US','UY','UZ','VU','VE','VN','WF','EH','YE','ZM','ZW']\n"
   ]
  },
  {
   "cell_type": "code",
   "execution_count": 20,
   "metadata": {},
   "outputs": [],
   "source": [
    "from shodan import Shodan\n",
    "import time"
   ]
  },
  {
   "cell_type": "code",
   "execution_count": 4,
   "metadata": {},
   "outputs": [],
   "source": [
    "api = Shodan('wULfHDJFLkQxvaecDLMQA4Ymusc5bEwm')"
   ]
  },
  {
   "cell_type": "code",
   "execution_count": 10,
   "metadata": {},
   "outputs": [
    {
     "data": {
      "text/plain": [
       "8703232"
      ]
     },
     "execution_count": 10,
     "metadata": {},
     "output_type": "execute_result"
    }
   ],
   "source": [
    "api.count('country:nl')['total']"
   ]
  },
  {
   "cell_type": "code",
   "execution_count": 18,
   "metadata": {},
   "outputs": [],
   "source": [
    "def count_host(country):\n",
    "    time.sleep(1)\n",
    "    return api.count('country:%s' % country)['total']"
   ]
  },
  {
   "cell_type": "code",
   "execution_count": 21,
   "metadata": {},
   "outputs": [
    {
     "data": {
      "text/plain": [
       "8703232"
      ]
     },
     "execution_count": 21,
     "metadata": {},
     "output_type": "execute_result"
    }
   ],
   "source": [
    "count_host('nl')"
   ]
  },
  {
   "cell_type": "code",
   "execution_count": 29,
   "metadata": {},
   "outputs": [],
   "source": [
    "result = dict( zip(countries, list(map(count_host, countries))))"
   ]
  },
  {
   "cell_type": "code",
   "execution_count": 35,
   "metadata": {},
   "outputs": [
    {
     "data": {
      "text/plain": [
       "8701126"
      ]
     },
     "execution_count": 35,
     "metadata": {},
     "output_type": "execute_result"
    }
   ],
   "source": [
    "result['NL']"
   ]
  },
  {
   "cell_type": "code",
   "execution_count": 33,
   "metadata": {},
   "outputs": [
    {
     "data": {
      "text/plain": [
       "{'AF': 27826,\n",
       " 'AL': 132370,\n",
       " 'DZ': 96965,\n",
       " 'AS': 2241,\n",
       " 'AD': 26023,\n",
       " 'AO': 62340,\n",
       " 'AI': 2568,\n",
       " 'AQ': 117,\n",
       " 'AG': 8216,\n",
       " 'AR': 5065009,\n",
       " 'AM': 88339,\n",
       " 'AW': 12572,\n",
       " 'AU': 4764688,\n",
       " 'AT': 980220,\n",
       " 'AZ': 99382,\n",
       " 'BS': 21955,\n",
       " 'BH': 37172,\n",
       " 'BD': 361906,\n",
       " 'BB': 15419,\n",
       " 'BY': 175736,\n",
       " 'BE': 889902,\n",
       " 'BZ': 49712,\n",
       " 'BJ': 6503,\n",
       " 'BM': 17348,\n",
       " 'BT': 5185,\n",
       " 'BO': 234811,\n",
       " 'BA': 175074,\n",
       " 'BW': 20234,\n",
       " 'BV': 22,\n",
       " 'BR': 10806205,\n",
       " 'IO': 205,\n",
       " 'VG': 17555,\n",
       " 'BN': 14091,\n",
       " 'BG': 1116806,\n",
       " 'BF': 7945,\n",
       " 'BI': 2835,\n",
       " 'KH': 195160,\n",
       " 'CM': 25477,\n",
       " 'CA': 7515181,\n",
       " 'CV': 5305,\n",
       " 'KY': 9065,\n",
       " 'CF': 368,\n",
       " 'TD': 2441,\n",
       " 'CL': 1076506,\n",
       " 'CN': 37080195,\n",
       " 'CX': 0,\n",
       " 'CC': 0,\n",
       " 'CO': 2048084,\n",
       " 'KM': 911,\n",
       " 'CD': 9974,\n",
       " 'CG': 5337,\n",
       " 'CK': 1049,\n",
       " 'CR': 203636,\n",
       " 'CI': 41473,\n",
       " 'CU': 13983,\n",
       " 'CY': 177892,\n",
       " 'CZ': 1391460,\n",
       " 'DK': 711181,\n",
       " 'DJ': 1971,\n",
       " 'DM': 1706,\n",
       " 'DO': 1038538,\n",
       " 'EC': 614630,\n",
       " 'EG': 733480,\n",
       " 'SV': 153357,\n",
       " 'GQ': 2833,\n",
       " 'ER': 235,\n",
       " 'EE': 290540,\n",
       " 'ET': 5310,\n",
       " 'FO': 13631,\n",
       " 'FK': 1234,\n",
       " 'FJ': 10183,\n",
       " 'FI': 646919,\n",
       " 'FR': 9291927,\n",
       " 'GF': 9663,\n",
       " 'PF': 12903,\n",
       " 'TF': 7,\n",
       " 'GA': 10733,\n",
       " 'GM': 4469,\n",
       " 'GE': 97769,\n",
       " 'DE': 30615307,\n",
       " 'GH': 34470,\n",
       " 'GI': 8822,\n",
       " 'GR': 892405,\n",
       " 'GL': 13823,\n",
       " 'GD': 7648,\n",
       " 'GP': 37808,\n",
       " 'GU': 67502,\n",
       " 'GT': 117396,\n",
       " 'GN': 3763,\n",
       " 'GW': 440,\n",
       " 'GY': 10116,\n",
       " 'HT': 17213,\n",
       " 'HM': 102,\n",
       " 'VA': 769,\n",
       " 'HN': 99698,\n",
       " 'HK': 24187853,\n",
       " 'HR': 253481,\n",
       " 'HU': 905603,\n",
       " 'IS': 97731,\n",
       " 'IN': 4962323,\n",
       " 'ID': 1925381,\n",
       " 'IR': 1734194,\n",
       " 'IQ': 116263,\n",
       " 'IE': 2242752,\n",
       " 'IL': 797926,\n",
       " 'IT': 8257431,\n",
       " 'JM': 49920,\n",
       " 'JP': 10781116,\n",
       " 'JO': 76354,\n",
       " 'KZ': 990684,\n",
       " 'KE': 112812,\n",
       " 'KI': 601,\n",
       " 'KP': 55,\n",
       " 'KR': 18059665,\n",
       " 'KW': 133040,\n",
       " 'KG': 31586,\n",
       " 'LA': 22383,\n",
       " 'LV': 310173,\n",
       " 'LB': 105442,\n",
       " 'LS': 4860,\n",
       " 'LR': 3168,\n",
       " 'LY': 58611,\n",
       " 'LI': 17063,\n",
       " 'LT': 465846,\n",
       " 'LU': 246708,\n",
       " 'MO': 83966,\n",
       " 'MK': 119632,\n",
       " 'MG': 13955,\n",
       " 'MW': 10943,\n",
       " 'MY': 1237845,\n",
       " 'MV': 17096,\n",
       " 'ML': 18289,\n",
       " 'MT': 81377,\n",
       " 'MH': 3535,\n",
       " 'MQ': 33995,\n",
       " 'MR': 8363,\n",
       " 'MU': 59630,\n",
       " 'YT': 1575,\n",
       " 'MX': 6204807,\n",
       " 'FM': 3486,\n",
       " 'MD': 282554,\n",
       " 'MC': 37588,\n",
       " 'MN': 34087,\n",
       " 'MS': 339,\n",
       " 'MA': 974107,\n",
       " 'MZ': 31181,\n",
       " 'MM': 13137,\n",
       " 'NA': 61300,\n",
       " 'NR': 198,\n",
       " 'NP': 65500,\n",
       " 'AN': 26578,\n",
       " 'NL': 8701126,\n",
       " 'NC': 63299,\n",
       " 'NZ': 1235647,\n",
       " 'NI': 96966,\n",
       " 'NE': 4265,\n",
       " 'NG': 205923,\n",
       " 'NU': 39,\n",
       " 'NF': 69,\n",
       " 'MP': 1738,\n",
       " 'NO': 845508,\n",
       " 'OM': 130760,\n",
       " 'PK': 642143,\n",
       " 'PW': 551,\n",
       " 'PS': 142996,\n",
       " 'PA': 252844,\n",
       " 'PG': 11893,\n",
       " 'PY': 110751,\n",
       " 'PE': 398420,\n",
       " 'PH': 509800,\n",
       " 'PN': 0,\n",
       " 'PL': 6261246,\n",
       " 'PT': 1774710,\n",
       " 'PR': 135746,\n",
       " 'QA': 68592,\n",
       " 'RE': 34763,\n",
       " 'RO': 2231116,\n",
       " 'RU': 10740685,\n",
       " 'RW': 9637,\n",
       " 'SH': 23816,\n",
       " 'KN': 7468,\n",
       " 'LC': 3983,\n",
       " 'PM': 427,\n",
       " 'VC': 11149,\n",
       " 'WS': 4413,\n",
       " 'SM': 4607,\n",
       " 'ST': 802,\n",
       " 'SA': 1494734,\n",
       " 'SN': 23698,\n",
       " 'CS': 0,\n",
       " 'SC': 146317,\n",
       " 'SL': 1965,\n",
       " 'SG': 2588906,\n",
       " 'SK': 457541,\n",
       " 'SI': 237824,\n",
       " 'SB': 1337,\n",
       " 'SO': 3856,\n",
       " 'ZA': 3797165,\n",
       " 'GS': 807,\n",
       " 'ES': 5862812,\n",
       " 'LK': 146437,\n",
       " 'SD': 39111,\n",
       " 'SR': 15927,\n",
       " 'SJ': 214,\n",
       " 'SZ': 13428,\n",
       " 'SE': 1832515,\n",
       " 'CH': 1555053,\n",
       " 'SY': 41225,\n",
       " 'TW': 5450659,\n",
       " 'TJ': 9942,\n",
       " 'TZ': 50481,\n",
       " 'TH': 2796859,\n",
       " 'TL': 4093,\n",
       " 'TG': 6852,\n",
       " 'TK': 30,\n",
       " 'TO': 1221,\n",
       " 'TT': 55548,\n",
       " 'TN': 874406,\n",
       " 'TR': 3829100,\n",
       " 'TM': 1224,\n",
       " 'TC': 2980,\n",
       " 'TV': 118,\n",
       " 'VI': 7237,\n",
       " 'UG': 51600,\n",
       " 'UA': 1962122,\n",
       " 'AE': 755445,\n",
       " 'GB': 19382310,\n",
       " 'UM': 3,\n",
       " 'US': 142859613,\n",
       " 'UY': 405056,\n",
       " 'UZ': 46560,\n",
       " 'VU': 4852,\n",
       " 'VE': 727372,\n",
       " 'VN': 3265853,\n",
       " 'WF': 1417,\n",
       " 'EH': 13,\n",
       " 'YE': 42476,\n",
       " 'ZM': 23516,\n",
       " 'ZW': 33503}"
      ]
     },
     "execution_count": 33,
     "metadata": {},
     "output_type": "execute_result"
    }
   ],
   "source": [
    "result"
   ]
  },
  {
   "cell_type": "code",
   "execution_count": null,
   "metadata": {},
   "outputs": [],
   "source": []
  }
 ],
 "metadata": {
  "kernelspec": {
   "display_name": "Python 3",
   "language": "python",
   "name": "python3"
  },
  "language_info": {
   "codemirror_mode": {
    "name": "ipython",
    "version": 3
   },
   "file_extension": ".py",
   "mimetype": "text/x-python",
   "name": "python",
   "nbconvert_exporter": "python",
   "pygments_lexer": "ipython3",
   "version": "3.6.6"
  }
 },
 "nbformat": 4,
 "nbformat_minor": 2
}
