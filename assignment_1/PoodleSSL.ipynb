{
 "cells": [
  {
   "cell_type": "code",
   "execution_count": null,
   "metadata": {},
   "outputs": [],
   "source": [
    "import sqlalchemy\n",
    "import psycopg2\n",
    "import os\n",
    "import plotly.plotly as py\n",
    "import plotly.graph_objs as go\n",
    "from plotly.offline import download_plotlyjs, init_notebook_mode, plot, iplot\n",
    "\n",
    "init_notebook_mode(connected=True)    \n",
    "\n",
    "%load_ext sql\n",
    " \n",
    "%config SqlMagic.displaylimit = 5"
   ]
  },
  {
   "cell_type": "code",
   "execution_count": null,
   "metadata": {},
   "outputs": [],
   "source": [
    "user = os.environ.get('REDSHIFT_USER')\n",
    "password = os.environ.get('REDSHIFT_PASSWORD')\n",
    "hostname = os.environ.get('REDSHIFT_HOSTNAME')\n",
    "port = '5439'\n",
    "db_name = 'dev'\n",
    "\n",
    "connect_to_db = 'postgresql+psycopg2://' + \\\n",
    "                user + ':' + password + '@' + \\\n",
    "                hostname + ':' + port + '/' + db_name;\n",
    "%sql $connect_to_db"
   ]
  },
  {
   "cell_type": "code",
   "execution_count": null,
   "metadata": {},
   "outputs": [],
   "source": [
    "%%sql\n",
    "\n",
    "select handshake, count(handshake) from spectrum.poodlessl group by handshake;\n"
   ]
  },
  {
   "cell_type": "code",
   "execution_count": null,
   "metadata": {},
   "outputs": [],
   "source": [
    "df = _.DataFrame()"
   ]
  },
  {
   "cell_type": "code",
   "execution_count": null,
   "metadata": {},
   "outputs": [],
   "source": [
    "#We do all the plotting here\n",
    "\n",
    "iplot([go.Bar(\n",
    "            x=df['handshake'],\n",
    "            y=df['count'],\n",
    ")])\n"
   ]
  },
  {
   "cell_type": "code",
   "execution_count": null,
   "metadata": {},
   "outputs": [],
   "source": [
    "%%sql\n",
    "\n",
    "SELECT date_trunc('week', timestamp) as week_of, upper(subject_country) as country, count(server_id) as server_count\n",
    "from spectrum.poodlessl\n",
    "where upper(subject_country) ~ '([A-Z])'\n",
    "group by 1, country\n",
    "order by 1, country ASC;"
   ]
  },
  {
   "cell_type": "code",
   "execution_count": null,
   "metadata": {},
   "outputs": [],
   "source": [
    "df = _.DataFrame()"
   ]
  },
  {
   "cell_type": "code",
   "execution_count": null,
   "metadata": {},
   "outputs": [],
   "source": [
    "pivot_df = df.pivot(index='week_of', columns='country', values='server_count')\n",
    "\n",
    "iplot([{\n",
    "    'x': pivot_df.index,\n",
    "    'y': pivot_df[col],\n",
    "    'name': col\n",
    "}  for col in pivot_df.columns])"
   ]
  },
  {
   "cell_type": "code",
   "execution_count": null,
   "metadata": {},
   "outputs": [],
   "source": []
  }
 ],
 "metadata": {
  "kernelspec": {
   "display_name": "Python 2",
   "language": "python",
   "name": "python2"
  },
  "language_info": {
   "codemirror_mode": {
    "name": "ipython",
    "version": 2
   },
   "file_extension": ".py",
   "mimetype": "text/x-python",
   "name": "python",
   "nbconvert_exporter": "python",
   "pygments_lexer": "ipython2",
   "version": "2.7.12"
  }
 },
 "nbformat": 4,
 "nbformat_minor": 2
}
